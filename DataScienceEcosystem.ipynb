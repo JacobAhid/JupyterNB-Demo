{
 "cells": [
  {
   "cell_type": "markdown",
   "id": "0bdbbfba-fa5d-4a0b-9a92-a03ac3b9a941",
   "metadata": {
    "tags": []
   },
   "source": [
    "# Data Science Tools and Ecosystem"
   ]
  },
  {
   "cell_type": "markdown",
   "id": "ea544565-2adb-4e2d-bc7c-53e188b7f192",
   "metadata": {},
   "source": [
    "In this notebook, Data Science Tools and Ecosystem are summarized."
   ]
  },
  {
   "cell_type": "markdown",
   "id": "c6957cd6-9b6c-4a80-b741-4c75ab9d45ef",
   "metadata": {},
   "source": [
    " **Objectives:** \n",
    " * List Popular Languages for Data Science\n",
    " * List Common Libraries used in Data Science\n",
    " * Provide Examples of Evaluating Arithmetic Expressions in Python"
   ]
  },
  {
   "cell_type": "markdown",
   "id": "6c8e1e08-6774-4696-a406-db1d03d0088d",
   "metadata": {},
   "source": [
    "Some of the popular languages that Data Scientists use are:\n",
    "1. Python\n",
    "2. R\n",
    "3. SQL"
   ]
  },
  {
   "cell_type": "markdown",
   "id": "c444faee-b2f9-495b-88b3-3cde26e20fb4",
   "metadata": {},
   "source": [
    "Some of the commonly used libraries used by Data Scientists include:\n",
    "1. Numpy\n",
    "2. Pandas\n",
    "3. SciKit-Learn\n",
    "    "
   ]
  },
  {
   "cell_type": "markdown",
   "id": "7bce2c20-e195-4a58-acc1-a7a58840c853",
   "metadata": {},
   "source": [
    "|Data Science Tools|\n",
    "|------------------|\n",
    "|Apache Spark|\n",
    "|TensorFlow|\n",
    "|Apache Hadoop|\n",
    "\n"
   ]
  },
  {
   "cell_type": "markdown",
   "id": "f8ec9aaf-68a5-4d2d-ab4f-3b171bd5a53c",
   "metadata": {},
   "source": [
    "### Below are a few examples of evaluating arithmetic expressions in Python"
   ]
  },
  {
   "cell_type": "code",
   "execution_count": 2,
   "id": "bc34aca8-fca2-47d3-b074-714b581cd52b",
   "metadata": {},
   "outputs": [
    {
     "data": {
      "text/plain": [
       "17"
      ]
     },
     "execution_count": 2,
     "metadata": {},
     "output_type": "execute_result"
    }
   ],
   "source": [
    "# This is a simple arithmetic expression to mutiply then add integers\n",
    "(3*4)+5"
   ]
  },
  {
   "cell_type": "code",
   "execution_count": 3,
   "id": "58b7b994-d9d1-4dba-991f-c479f15aa7f6",
   "metadata": {},
   "outputs": [
    {
     "data": {
      "text/plain": [
       "3.3333333333333335"
      ]
     },
     "execution_count": 3,
     "metadata": {},
     "output_type": "execute_result"
    }
   ],
   "source": [
    "# This will convert 200 minutes to hours by diving by 60\n",
    "200/60"
   ]
  },
  {
   "cell_type": "markdown",
   "id": "4c3f4627-4b18-4004-90df-3bb58b6c641e",
   "metadata": {},
   "source": [
    "## Author \n",
    "Jacob Ahid"
   ]
  },
  {
   "cell_type": "code",
   "execution_count": null,
   "id": "c7a6f0f1-3e94-426b-991c-b22d5c1a3620",
   "metadata": {},
   "outputs": [],
   "source": []
  }
 ],
 "metadata": {
  "kernelspec": {
   "display_name": "Python",
   "language": "python",
   "name": "conda-env-python-py"
  },
  "language_info": {
   "codemirror_mode": {
    "name": "ipython",
    "version": 3
   },
   "file_extension": ".py",
   "mimetype": "text/x-python",
   "name": "python",
   "nbconvert_exporter": "python",
   "pygments_lexer": "ipython3",
   "version": "3.7.12"
  }
 },
 "nbformat": 4,
 "nbformat_minor": 5
}
